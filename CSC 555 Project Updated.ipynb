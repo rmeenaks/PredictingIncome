{
 "cells": [
  {
   "cell_type": "markdown",
   "metadata": {},
   "source": [
    "# CSC 555 Project - Predicting Individuals' Income Using Socio-Economic Factors"
   ]
  },
  {
   "cell_type": "markdown",
   "metadata": {},
   "source": [
    "#### Contribution: Rajeshwari Meenakshi"
   ]
  },
  {
   "cell_type": "code",
   "execution_count": 6,
   "metadata": {},
   "outputs": [],
   "source": [
    "# All packages are imported.\n",
    "\n",
    "from sklearn import metrics\n",
    "from sklearn.metrics import confusion_matrix\n",
    "from sklearn.metrics import classification_report\n",
    "from sklearn.metrics import balanced_accuracy_score\n",
    "from sklearn.model_selection import GridSearchCV\n",
    "from sklearn.preprocessing import StandardScaler\n",
    "\n",
    "import pandas as pd\n",
    "import numpy as np\n",
    "import matplotlib.pyplot as plt\n",
    "import seaborn as sns\n",
    "import warnings\n",
    "warnings.filterwarnings(\"ignore\")"
   ]
  },
  {
   "cell_type": "markdown",
   "metadata": {},
   "source": [
    "## Viewing, Assessing and Transforming the Data "
   ]
  },
  {
   "cell_type": "code",
   "execution_count": 7,
   "metadata": {},
   "outputs": [],
   "source": [
    "# Read the data into Jupyter. \n",
    "\n",
    "adult = pd.read_csv('transformed_data.csv')\n",
    "target = pd.read_csv('target_data.csv')"
   ]
  },
  {
   "cell_type": "code",
   "execution_count": 8,
   "metadata": {},
   "outputs": [
    {
     "data": {
      "text/html": [
       "<div>\n",
       "<style scoped>\n",
       "    .dataframe tbody tr th:only-of-type {\n",
       "        vertical-align: middle;\n",
       "    }\n",
       "\n",
       "    .dataframe tbody tr th {\n",
       "        vertical-align: top;\n",
       "    }\n",
       "\n",
       "    .dataframe thead th {\n",
       "        text-align: right;\n",
       "    }\n",
       "</style>\n",
       "<table border=\"1\" class=\"dataframe\">\n",
       "  <thead>\n",
       "    <tr style=\"text-align: right;\">\n",
       "      <th></th>\n",
       "      <th>age</th>\n",
       "      <th>fnlwgt</th>\n",
       "      <th>education</th>\n",
       "      <th>capital.gain</th>\n",
       "      <th>capital.loss</th>\n",
       "      <th>hours.per.week</th>\n",
       "      <th>native.country</th>\n",
       "      <th>sex_Female</th>\n",
       "      <th>sex_Male</th>\n",
       "      <th>race_Amer-Indian-Eskimo</th>\n",
       "      <th>...</th>\n",
       "      <th>occupation_Transport-moving</th>\n",
       "      <th>occupation_unknown</th>\n",
       "      <th>marital.status_Never-married</th>\n",
       "      <th>marital.status_married</th>\n",
       "      <th>marital.status_single</th>\n",
       "      <th>workclass_never-worked</th>\n",
       "      <th>workclass_private</th>\n",
       "      <th>workclass_public</th>\n",
       "      <th>workclass_unknown</th>\n",
       "      <th>workclass_without-pay</th>\n",
       "    </tr>\n",
       "  </thead>\n",
       "  <tbody>\n",
       "    <tr>\n",
       "      <th>0</th>\n",
       "      <td>90</td>\n",
       "      <td>77053</td>\n",
       "      <td>1</td>\n",
       "      <td>0</td>\n",
       "      <td>4356</td>\n",
       "      <td>40</td>\n",
       "      <td>1</td>\n",
       "      <td>1</td>\n",
       "      <td>0</td>\n",
       "      <td>0</td>\n",
       "      <td>...</td>\n",
       "      <td>0</td>\n",
       "      <td>1</td>\n",
       "      <td>0</td>\n",
       "      <td>0</td>\n",
       "      <td>1</td>\n",
       "      <td>0</td>\n",
       "      <td>0</td>\n",
       "      <td>0</td>\n",
       "      <td>1</td>\n",
       "      <td>0</td>\n",
       "    </tr>\n",
       "    <tr>\n",
       "      <th>1</th>\n",
       "      <td>82</td>\n",
       "      <td>132870</td>\n",
       "      <td>1</td>\n",
       "      <td>0</td>\n",
       "      <td>4356</td>\n",
       "      <td>18</td>\n",
       "      <td>1</td>\n",
       "      <td>1</td>\n",
       "      <td>0</td>\n",
       "      <td>0</td>\n",
       "      <td>...</td>\n",
       "      <td>0</td>\n",
       "      <td>0</td>\n",
       "      <td>0</td>\n",
       "      <td>0</td>\n",
       "      <td>1</td>\n",
       "      <td>0</td>\n",
       "      <td>1</td>\n",
       "      <td>0</td>\n",
       "      <td>0</td>\n",
       "      <td>0</td>\n",
       "    </tr>\n",
       "    <tr>\n",
       "      <th>2</th>\n",
       "      <td>66</td>\n",
       "      <td>186061</td>\n",
       "      <td>1</td>\n",
       "      <td>0</td>\n",
       "      <td>4356</td>\n",
       "      <td>40</td>\n",
       "      <td>1</td>\n",
       "      <td>1</td>\n",
       "      <td>0</td>\n",
       "      <td>0</td>\n",
       "      <td>...</td>\n",
       "      <td>0</td>\n",
       "      <td>1</td>\n",
       "      <td>0</td>\n",
       "      <td>0</td>\n",
       "      <td>1</td>\n",
       "      <td>0</td>\n",
       "      <td>0</td>\n",
       "      <td>0</td>\n",
       "      <td>1</td>\n",
       "      <td>0</td>\n",
       "    </tr>\n",
       "    <tr>\n",
       "      <th>3</th>\n",
       "      <td>54</td>\n",
       "      <td>140359</td>\n",
       "      <td>0</td>\n",
       "      <td>0</td>\n",
       "      <td>3900</td>\n",
       "      <td>40</td>\n",
       "      <td>1</td>\n",
       "      <td>1</td>\n",
       "      <td>0</td>\n",
       "      <td>0</td>\n",
       "      <td>...</td>\n",
       "      <td>0</td>\n",
       "      <td>0</td>\n",
       "      <td>0</td>\n",
       "      <td>0</td>\n",
       "      <td>1</td>\n",
       "      <td>0</td>\n",
       "      <td>1</td>\n",
       "      <td>0</td>\n",
       "      <td>0</td>\n",
       "      <td>0</td>\n",
       "    </tr>\n",
       "    <tr>\n",
       "      <th>4</th>\n",
       "      <td>41</td>\n",
       "      <td>264663</td>\n",
       "      <td>1</td>\n",
       "      <td>0</td>\n",
       "      <td>3900</td>\n",
       "      <td>40</td>\n",
       "      <td>1</td>\n",
       "      <td>1</td>\n",
       "      <td>0</td>\n",
       "      <td>0</td>\n",
       "      <td>...</td>\n",
       "      <td>0</td>\n",
       "      <td>0</td>\n",
       "      <td>0</td>\n",
       "      <td>0</td>\n",
       "      <td>1</td>\n",
       "      <td>0</td>\n",
       "      <td>1</td>\n",
       "      <td>0</td>\n",
       "      <td>0</td>\n",
       "      <td>0</td>\n",
       "    </tr>\n",
       "  </tbody>\n",
       "</table>\n",
       "<p>5 rows × 43 columns</p>\n",
       "</div>"
      ],
      "text/plain": [
       "   age  fnlwgt  education  capital.gain  capital.loss  hours.per.week  \\\n",
       "0   90   77053          1             0          4356              40   \n",
       "1   82  132870          1             0          4356              18   \n",
       "2   66  186061          1             0          4356              40   \n",
       "3   54  140359          0             0          3900              40   \n",
       "4   41  264663          1             0          3900              40   \n",
       "\n",
       "   native.country  sex_Female  sex_Male  race_Amer-Indian-Eskimo  ...  \\\n",
       "0               1           1         0                        0  ...   \n",
       "1               1           1         0                        0  ...   \n",
       "2               1           1         0                        0  ...   \n",
       "3               1           1         0                        0  ...   \n",
       "4               1           1         0                        0  ...   \n",
       "\n",
       "   occupation_Transport-moving  occupation_unknown  \\\n",
       "0                            0                   1   \n",
       "1                            0                   0   \n",
       "2                            0                   1   \n",
       "3                            0                   0   \n",
       "4                            0                   0   \n",
       "\n",
       "   marital.status_Never-married  marital.status_married  \\\n",
       "0                             0                       0   \n",
       "1                             0                       0   \n",
       "2                             0                       0   \n",
       "3                             0                       0   \n",
       "4                             0                       0   \n",
       "\n",
       "   marital.status_single  workclass_never-worked  workclass_private  \\\n",
       "0                      1                       0                  0   \n",
       "1                      1                       0                  1   \n",
       "2                      1                       0                  0   \n",
       "3                      1                       0                  1   \n",
       "4                      1                       0                  1   \n",
       "\n",
       "   workclass_public  workclass_unknown  workclass_without-pay  \n",
       "0                 0                  1                      0  \n",
       "1                 0                  0                      0  \n",
       "2                 0                  1                      0  \n",
       "3                 0                  0                      0  \n",
       "4                 0                  0                      0  \n",
       "\n",
       "[5 rows x 43 columns]"
      ]
     },
     "execution_count": 8,
     "metadata": {},
     "output_type": "execute_result"
    }
   ],
   "source": [
    "# View the first 5 rows of the attributes data.\n",
    "\n",
    "adult.head()"
   ]
  },
  {
   "cell_type": "code",
   "execution_count": 9,
   "metadata": {},
   "outputs": [
    {
     "data": {
      "text/html": [
       "<div>\n",
       "<style scoped>\n",
       "    .dataframe tbody tr th:only-of-type {\n",
       "        vertical-align: middle;\n",
       "    }\n",
       "\n",
       "    .dataframe tbody tr th {\n",
       "        vertical-align: top;\n",
       "    }\n",
       "\n",
       "    .dataframe thead th {\n",
       "        text-align: right;\n",
       "    }\n",
       "</style>\n",
       "<table border=\"1\" class=\"dataframe\">\n",
       "  <thead>\n",
       "    <tr style=\"text-align: right;\">\n",
       "      <th></th>\n",
       "      <th>income</th>\n",
       "    </tr>\n",
       "  </thead>\n",
       "  <tbody>\n",
       "    <tr>\n",
       "      <th>0</th>\n",
       "      <td>0</td>\n",
       "    </tr>\n",
       "    <tr>\n",
       "      <th>1</th>\n",
       "      <td>0</td>\n",
       "    </tr>\n",
       "    <tr>\n",
       "      <th>2</th>\n",
       "      <td>0</td>\n",
       "    </tr>\n",
       "    <tr>\n",
       "      <th>3</th>\n",
       "      <td>0</td>\n",
       "    </tr>\n",
       "    <tr>\n",
       "      <th>4</th>\n",
       "      <td>0</td>\n",
       "    </tr>\n",
       "  </tbody>\n",
       "</table>\n",
       "</div>"
      ],
      "text/plain": [
       "   income\n",
       "0       0\n",
       "1       0\n",
       "2       0\n",
       "3       0\n",
       "4       0"
      ]
     },
     "execution_count": 9,
     "metadata": {},
     "output_type": "execute_result"
    }
   ],
   "source": [
    "# View the first 5 rows of the target data.\n",
    "\n",
    "target.head()"
   ]
  },
  {
   "cell_type": "code",
   "execution_count": 10,
   "metadata": {},
   "outputs": [
    {
     "data": {
      "text/plain": [
       "age                             0\n",
       "fnlwgt                          0\n",
       "education                       0\n",
       "capital.gain                    0\n",
       "capital.loss                    0\n",
       "hours.per.week                  0\n",
       "native.country                  0\n",
       "sex_Female                      0\n",
       "sex_Male                        0\n",
       "race_Amer-Indian-Eskimo         0\n",
       "race_Asian-Pac-Islander         0\n",
       "race_Black                      0\n",
       "race_Other                      0\n",
       "race_White                      0\n",
       "relationship_Husband            0\n",
       "relationship_Not-in-family      0\n",
       "relationship_Other-relative     0\n",
       "relationship_Own-child          0\n",
       "relationship_Unmarried          0\n",
       "relationship_Wife               0\n",
       "occupation_Adm-clerical         0\n",
       "occupation_Armed-Forces         0\n",
       "occupation_Craft-repair         0\n",
       "occupation_Exec-managerial      0\n",
       "occupation_Farming-fishing      0\n",
       "occupation_Handlers-cleaners    0\n",
       "occupation_Machine-op-inspct    0\n",
       "occupation_Other-service        0\n",
       "occupation_Priv-house-serv      0\n",
       "occupation_Prof-specialty       0\n",
       "occupation_Protective-serv      0\n",
       "occupation_Sales                0\n",
       "occupation_Tech-support         0\n",
       "occupation_Transport-moving     0\n",
       "occupation_unknown              0\n",
       "marital.status_Never-married    0\n",
       "marital.status_married          0\n",
       "marital.status_single           0\n",
       "workclass_never-worked          0\n",
       "workclass_private               0\n",
       "workclass_public                0\n",
       "workclass_unknown               0\n",
       "workclass_without-pay           0\n",
       "dtype: int64"
      ]
     },
     "execution_count": 10,
     "metadata": {},
     "output_type": "execute_result"
    }
   ],
   "source": [
    "# Determine the number of null values in the dataset. \n",
    "\n",
    "adult.isnull().sum()"
   ]
  },
  {
   "cell_type": "code",
   "execution_count": 11,
   "metadata": {},
   "outputs": [
    {
     "data": {
      "text/plain": [
       "income    0\n",
       "dtype: int64"
      ]
     },
     "execution_count": 11,
     "metadata": {},
     "output_type": "execute_result"
    }
   ],
   "source": [
    "# Determine the number of null values in the dataset. \n",
    "\n",
    "target.isnull().sum()"
   ]
  },
  {
   "cell_type": "code",
   "execution_count": 12,
   "metadata": {},
   "outputs": [
    {
     "name": "stdout",
     "output_type": "stream",
     "text": [
      "<class 'pandas.core.frame.DataFrame'>\n",
      "RangeIndex: 32561 entries, 0 to 32560\n",
      "Data columns (total 43 columns):\n",
      " #   Column                        Non-Null Count  Dtype\n",
      "---  ------                        --------------  -----\n",
      " 0   age                           32561 non-null  int64\n",
      " 1   fnlwgt                        32561 non-null  int64\n",
      " 2   education                     32561 non-null  int64\n",
      " 3   capital.gain                  32561 non-null  int64\n",
      " 4   capital.loss                  32561 non-null  int64\n",
      " 5   hours.per.week                32561 non-null  int64\n",
      " 6   native.country                32561 non-null  int64\n",
      " 7   sex_Female                    32561 non-null  int64\n",
      " 8   sex_Male                      32561 non-null  int64\n",
      " 9   race_Amer-Indian-Eskimo       32561 non-null  int64\n",
      " 10  race_Asian-Pac-Islander       32561 non-null  int64\n",
      " 11  race_Black                    32561 non-null  int64\n",
      " 12  race_Other                    32561 non-null  int64\n",
      " 13  race_White                    32561 non-null  int64\n",
      " 14  relationship_Husband          32561 non-null  int64\n",
      " 15  relationship_Not-in-family    32561 non-null  int64\n",
      " 16  relationship_Other-relative   32561 non-null  int64\n",
      " 17  relationship_Own-child        32561 non-null  int64\n",
      " 18  relationship_Unmarried        32561 non-null  int64\n",
      " 19  relationship_Wife             32561 non-null  int64\n",
      " 20  occupation_Adm-clerical       32561 non-null  int64\n",
      " 21  occupation_Armed-Forces       32561 non-null  int64\n",
      " 22  occupation_Craft-repair       32561 non-null  int64\n",
      " 23  occupation_Exec-managerial    32561 non-null  int64\n",
      " 24  occupation_Farming-fishing    32561 non-null  int64\n",
      " 25  occupation_Handlers-cleaners  32561 non-null  int64\n",
      " 26  occupation_Machine-op-inspct  32561 non-null  int64\n",
      " 27  occupation_Other-service      32561 non-null  int64\n",
      " 28  occupation_Priv-house-serv    32561 non-null  int64\n",
      " 29  occupation_Prof-specialty     32561 non-null  int64\n",
      " 30  occupation_Protective-serv    32561 non-null  int64\n",
      " 31  occupation_Sales              32561 non-null  int64\n",
      " 32  occupation_Tech-support       32561 non-null  int64\n",
      " 33  occupation_Transport-moving   32561 non-null  int64\n",
      " 34  occupation_unknown            32561 non-null  int64\n",
      " 35  marital.status_Never-married  32561 non-null  int64\n",
      " 36  marital.status_married        32561 non-null  int64\n",
      " 37  marital.status_single         32561 non-null  int64\n",
      " 38  workclass_never-worked        32561 non-null  int64\n",
      " 39  workclass_private             32561 non-null  int64\n",
      " 40  workclass_public              32561 non-null  int64\n",
      " 41  workclass_unknown             32561 non-null  int64\n",
      " 42  workclass_without-pay         32561 non-null  int64\n",
      "dtypes: int64(43)\n",
      "memory usage: 10.7 MB\n"
     ]
    }
   ],
   "source": [
    "# Get information about the data type of the variables in the data. \n",
    "\n",
    "adult.info()"
   ]
  },
  {
   "cell_type": "code",
   "execution_count": 13,
   "metadata": {},
   "outputs": [
    {
     "name": "stdout",
     "output_type": "stream",
     "text": [
      "<class 'pandas.core.frame.DataFrame'>\n",
      "RangeIndex: 32561 entries, 0 to 32560\n",
      "Data columns (total 1 columns):\n",
      " #   Column  Non-Null Count  Dtype\n",
      "---  ------  --------------  -----\n",
      " 0   income  32561 non-null  int64\n",
      "dtypes: int64(1)\n",
      "memory usage: 254.5 KB\n"
     ]
    }
   ],
   "source": [
    "target.info()"
   ]
  },
  {
   "cell_type": "code",
   "execution_count": 14,
   "metadata": {},
   "outputs": [
    {
     "data": {
      "text/plain": [
       "array([1, 0, 2, 3, 4], dtype=int64)"
      ]
     },
     "execution_count": 14,
     "metadata": {},
     "output_type": "execute_result"
    }
   ],
   "source": [
    "# Get the uniques values in the native country variable. \n",
    "\n",
    "adult['native.country'].unique()"
   ]
  },
  {
   "cell_type": "code",
   "execution_count": null,
   "metadata": {},
   "outputs": [],
   "source": []
  },
  {
   "cell_type": "code",
   "execution_count": 15,
   "metadata": {},
   "outputs": [
    {
     "data": {
      "text/plain": [
       "1    29853\n",
       "2     1223\n",
       "0      583\n",
       "4      518\n",
       "3      384\n",
       "Name: native.country, dtype: int64"
      ]
     },
     "execution_count": 15,
     "metadata": {},
     "output_type": "execute_result"
    }
   ],
   "source": [
    "# Obtain the number of entries with each value. \n",
    "\n",
    "adult['native.country'].value_counts()"
   ]
  },
  {
   "cell_type": "code",
   "execution_count": null,
   "metadata": {},
   "outputs": [],
   "source": []
  },
  {
   "cell_type": "markdown",
   "metadata": {},
   "source": [
    "## Training and Testing Split"
   ]
  },
  {
   "cell_type": "code",
   "execution_count": 16,
   "metadata": {},
   "outputs": [],
   "source": [
    "# The features data set is standardized. \n",
    "\n",
    "standard = StandardScaler()\n",
    "X_standard = standard.fit_transform(adult)"
   ]
  },
  {
   "cell_type": "code",
   "execution_count": 17,
   "metadata": {},
   "outputs": [],
   "source": [
    "from sklearn.model_selection import train_test_split"
   ]
  },
  {
   "cell_type": "code",
   "execution_count": 18,
   "metadata": {},
   "outputs": [],
   "source": [
    "# The dataset is split into 80 percent training and 20 percent test set. \n",
    "\n",
    "X_train, X_test, y_train, y_test = train_test_split(X_standard, target, test_size=0.20, random_state=0,stratify=target)"
   ]
  },
  {
   "cell_type": "markdown",
   "metadata": {},
   "source": [
    "## Decision Tree Model"
   ]
  },
  {
   "cell_type": "code",
   "execution_count": 19,
   "metadata": {},
   "outputs": [],
   "source": [
    "from sklearn.tree import DecisionTreeClassifier, plot_tree"
   ]
  },
  {
   "cell_type": "code",
   "execution_count": 91,
   "metadata": {},
   "outputs": [
    {
     "data": {
      "text/plain": [
       "DecisionTreeClassifier(ccp_alpha=0.0, class_weight=None, criterion='gini',\n",
       "                       max_depth=None, max_features=None, max_leaf_nodes=None,\n",
       "                       min_impurity_decrease=0.0, min_impurity_split=None,\n",
       "                       min_samples_leaf=1, min_samples_split=2,\n",
       "                       min_weight_fraction_leaf=0.0, presort='deprecated',\n",
       "                       random_state=None, splitter='best')"
      ]
     },
     "execution_count": 91,
     "metadata": {},
     "output_type": "execute_result"
    }
   ],
   "source": [
    "# Using th Decision Tree model fit the training set. \n",
    "\n",
    "clf_tree = DecisionTreeClassifier()\n",
    "clf_tree.fit(X_train, y_train)"
   ]
  },
  {
   "cell_type": "code",
   "execution_count": 92,
   "metadata": {},
   "outputs": [
    {
     "data": {
      "text/plain": [
       "0.9997608799617408"
      ]
     },
     "execution_count": 92,
     "metadata": {},
     "output_type": "execute_result"
    }
   ],
   "source": [
    "# Predict the target variable of the training set using the features of the training set and calculate the accuracy score. \n",
    "\n",
    "prediction = clf_tree.predict(X_train)\n",
    "balanced_accuracy_score(y_train, prediction)"
   ]
  },
  {
   "cell_type": "code",
   "execution_count": 93,
   "metadata": {},
   "outputs": [
    {
     "data": {
      "text/plain": [
       "0.8120681713496085"
      ]
     },
     "execution_count": 93,
     "metadata": {},
     "output_type": "execute_result"
    }
   ],
   "source": [
    "# Predict the target variable of the test set using the features of the test set and calculate the accuracy score.\n",
    "\n",
    "prediction = clf_tree.predict(X_test)\n",
    "metrics.accuracy_score(y_true = y_test, y_pred = prediction)"
   ]
  },
  {
   "cell_type": "code",
   "execution_count": 94,
   "metadata": {},
   "outputs": [
    {
     "name": "stdout",
     "output_type": "stream",
     "text": [
      "[[4321  624]\n",
      " [ 600  968]]\n"
     ]
    }
   ],
   "source": [
    "# Form a confusion matrix with the actal target value of the test set and the prediction. \n",
    "\n",
    "confusion_matrix_new = confusion_matrix(y_test, prediction)\n",
    "print(confusion_matrix_new)"
   ]
  },
  {
   "cell_type": "code",
   "execution_count": 95,
   "metadata": {},
   "outputs": [
    {
     "name": "stdout",
     "output_type": "stream",
     "text": [
      "              precision    recall  f1-score   support\n",
      "\n",
      "           0       0.88      0.87      0.88      4945\n",
      "           1       0.61      0.62      0.61      1568\n",
      "\n",
      "    accuracy                           0.81      6513\n",
      "   macro avg       0.74      0.75      0.74      6513\n",
      "weighted avg       0.81      0.81      0.81      6513\n",
      "\n"
     ]
    }
   ],
   "source": [
    "# Print the classification report with the error analysis. \n",
    "\n",
    "print(classification_report(y_test, prediction))"
   ]
  },
  {
   "cell_type": "code",
   "execution_count": 96,
   "metadata": {},
   "outputs": [
    {
     "name": "stdout",
     "output_type": "stream",
     "text": [
      "0.6080402010050251\n"
     ]
    }
   ],
   "source": [
    "# Calculate Specificity\n",
    "\n",
    "TN = 968\n",
    "FP = 624\n",
    "Specificity = TN/(TN+FP)\n",
    "print(Specificity)"
   ]
  },
  {
   "cell_type": "code",
   "execution_count": 97,
   "metadata": {},
   "outputs": [
    {
     "name": "stdout",
     "output_type": "stream",
     "text": [
      "0.7455794350095953\n"
     ]
    }
   ],
   "source": [
    "# Calculate balanced accuracy \n",
    "\n",
    "b_accuracy = balanced_accuracy_score(y_test, prediction)\n",
    "print(b_accuracy)"
   ]
  },
  {
   "cell_type": "markdown",
   "metadata": {},
   "source": [
    "## Hypertuning Parameters and Improving the Decision Tree Model"
   ]
  },
  {
   "cell_type": "code",
   "execution_count": 26,
   "metadata": {},
   "outputs": [],
   "source": [
    "# Tuning the hyperparameters, min_samples_split, max_depth and min_samples_leaf with gridsearch. \n",
    "\n",
    "tuned = DecisionTreeClassifier()\n",
    "parameters = {'min_samples_split': [100, 150, 200, 250, 300], 'max_depth': [2, 4, 6, 8, 10], 'min_samples_leaf': [2,3,4,5,6]}\n",
    "grid_cv_improved = GridSearchCV(estimator = tuned, param_grid = parameters, cv = 10)"
   ]
  },
  {
   "cell_type": "code",
   "execution_count": 25,
   "metadata": {},
   "outputs": [
    {
     "data": {
      "text/plain": [
       "GridSearchCV(cv=10, error_score=nan,\n",
       "             estimator=DecisionTreeClassifier(ccp_alpha=0.0, class_weight=None,\n",
       "                                              criterion='gini', max_depth=None,\n",
       "                                              max_features=None,\n",
       "                                              max_leaf_nodes=None,\n",
       "                                              min_impurity_decrease=0.0,\n",
       "                                              min_impurity_split=None,\n",
       "                                              min_samples_leaf=1,\n",
       "                                              min_samples_split=2,\n",
       "                                              min_weight_fraction_leaf=0.0,\n",
       "                                              presort='deprecated',\n",
       "                                              random_state=None,\n",
       "                                              splitter='best'),\n",
       "             iid='deprecated', n_jobs=None,\n",
       "             param_grid={'max_depth': [2, 4, 6, 8, 10],\n",
       "                         'min_samples_leaf': [2, 3, 4, 5, 6],\n",
       "                         'min_samples_split': [100, 150, 200, 250, 300]},\n",
       "             pre_dispatch='2*n_jobs', refit=True, return_train_score=False,\n",
       "             scoring=None, verbose=0)"
      ]
     },
     "execution_count": 25,
     "metadata": {},
     "output_type": "execute_result"
    }
   ],
   "source": [
    "# Fitting it to the training set. \n",
    "\n",
    "grid_cv_improved.fit(X_train, y_train)"
   ]
  },
  {
   "cell_type": "code",
   "execution_count": 26,
   "metadata": {},
   "outputs": [
    {
     "data": {
      "text/plain": [
       "DecisionTreeClassifier(ccp_alpha=0.0, class_weight=None, criterion='gini',\n",
       "                       max_depth=10, max_features=None, max_leaf_nodes=None,\n",
       "                       min_impurity_decrease=0.0, min_impurity_split=None,\n",
       "                       min_samples_leaf=6, min_samples_split=150,\n",
       "                       min_weight_fraction_leaf=0.0, presort='deprecated',\n",
       "                       random_state=None, splitter='best')"
      ]
     },
     "execution_count": 26,
     "metadata": {},
     "output_type": "execute_result"
    }
   ],
   "source": [
    "# Getting the parameters of the best estimator. \n",
    "\n",
    "grid_cv_improved.best_estimator_"
   ]
  },
  {
   "cell_type": "code",
   "execution_count": 100,
   "metadata": {},
   "outputs": [],
   "source": [
    "# Using those parameters, fit them to the training set and predict the target variable in the test set. \n",
    "\n",
    "best_DT = DecisionTreeClassifier(max_depth = 10, min_samples_split = 150, min_samples_leaf = 6)\n",
    "best_fit_DT = best_DT.fit(X_train, y_train)"
   ]
  },
  {
   "cell_type": "code",
   "execution_count": 101,
   "metadata": {},
   "outputs": [
    {
     "data": {
      "text/plain": [
       "0.7686964279920185"
      ]
     },
     "execution_count": 101,
     "metadata": {},
     "output_type": "execute_result"
    }
   ],
   "source": [
    "prediction = best_DT.predict(X_train)\n",
    "balanced_accuracy_score(y_train, prediction)"
   ]
  },
  {
   "cell_type": "code",
   "execution_count": 102,
   "metadata": {},
   "outputs": [],
   "source": [
    "prediction = best_DT.predict(X_test)"
   ]
  },
  {
   "cell_type": "code",
   "execution_count": 103,
   "metadata": {},
   "outputs": [
    {
     "name": "stdout",
     "output_type": "stream",
     "text": [
      "[[4654  291]\n",
      " [ 659  909]]\n"
     ]
    }
   ],
   "source": [
    "# Obtain a confusion matrix. \n",
    "\n",
    "confusion_matrix_best = confusion_matrix(y_test, prediction)\n",
    "print(confusion_matrix_best)"
   ]
  },
  {
   "cell_type": "code",
   "execution_count": 104,
   "metadata": {},
   "outputs": [
    {
     "name": "stdout",
     "output_type": "stream",
     "text": [
      "              precision    recall  f1-score   support\n",
      "\n",
      "           0       0.88      0.94      0.91      4945\n",
      "           1       0.76      0.58      0.66      1568\n",
      "\n",
      "    accuracy                           0.85      6513\n",
      "   macro avg       0.82      0.76      0.78      6513\n",
      "weighted avg       0.85      0.85      0.85      6513\n",
      "\n"
     ]
    }
   ],
   "source": [
    "# Calculate the error analysis. \n",
    "\n",
    "print(classification_report(y_test, prediction))"
   ]
  },
  {
   "cell_type": "code",
   "execution_count": 105,
   "metadata": {},
   "outputs": [
    {
     "name": "stdout",
     "output_type": "stream",
     "text": [
      "0.7604360336146592\n"
     ]
    }
   ],
   "source": [
    "# Obtain the balanced accuracy. \n",
    "\n",
    "b_accuracy = balanced_accuracy_score(y_test, prediction)\n",
    "print(b_accuracy)"
   ]
  },
  {
   "cell_type": "code",
   "execution_count": 106,
   "metadata": {},
   "outputs": [
    {
     "data": {
      "text/plain": [
       "0.8541378780899739"
      ]
     },
     "execution_count": 106,
     "metadata": {},
     "output_type": "execute_result"
    }
   ],
   "source": [
    "# Get the accuracy score. \n",
    "\n",
    "from sklearn.metrics import accuracy_score\n",
    "accuracy_score(y_test, prediction, normalize = True)"
   ]
  },
  {
   "cell_type": "code",
   "execution_count": 107,
   "metadata": {},
   "outputs": [
    {
     "name": "stdout",
     "output_type": "stream",
     "text": [
      "0.7575\n"
     ]
    }
   ],
   "source": [
    "# Obtain the specificity. \n",
    "\n",
    "TN = 909\n",
    "FP = 291\n",
    "Specificity = TN/(TN+FP)\n",
    "print(Specificity)"
   ]
  },
  {
   "cell_type": "markdown",
   "metadata": {},
   "source": [
    "### Attempt Number Two"
   ]
  },
  {
   "cell_type": "code",
   "execution_count": 37,
   "metadata": {},
   "outputs": [],
   "source": [
    "# Increase the accuracy by adding a greater range of values in the grid search. \n",
    "\n",
    "tuned = DecisionTreeClassifier()\n",
    "parameters = {'min_samples_split': [200, 250, 300, 350, 400], 'max_depth': [10, 12, 14, 16, 18], 'min_samples_leaf': [3,5,7,9,11]}\n",
    "grid_cv_improved = GridSearchCV(estimator = tuned, param_grid = parameters, cv = 10)"
   ]
  },
  {
   "cell_type": "code",
   "execution_count": 34,
   "metadata": {},
   "outputs": [
    {
     "data": {
      "text/plain": [
       "GridSearchCV(cv=10, error_score=nan,\n",
       "             estimator=DecisionTreeClassifier(ccp_alpha=0.0, class_weight=None,\n",
       "                                              criterion='gini', max_depth=None,\n",
       "                                              max_features=None,\n",
       "                                              max_leaf_nodes=None,\n",
       "                                              min_impurity_decrease=0.0,\n",
       "                                              min_impurity_split=None,\n",
       "                                              min_samples_leaf=1,\n",
       "                                              min_samples_split=2,\n",
       "                                              min_weight_fraction_leaf=0.0,\n",
       "                                              presort='deprecated',\n",
       "                                              random_state=None,\n",
       "                                              splitter='best'),\n",
       "             iid='deprecated', n_jobs=None,\n",
       "             param_grid={'max_depth': [10, 12, 14, 16, 18],\n",
       "                         'min_samples_leaf': [3, 5, 7, 9, 11],\n",
       "                         'min_samples_split': [200, 250, 300, 350, 400]},\n",
       "             pre_dispatch='2*n_jobs', refit=True, return_train_score=False,\n",
       "             scoring=None, verbose=0)"
      ]
     },
     "execution_count": 34,
     "metadata": {},
     "output_type": "execute_result"
    }
   ],
   "source": [
    "# Fit this improved model to the training set. \n",
    "\n",
    "grid_cv_improved.fit(X_train, y_train)"
   ]
  },
  {
   "cell_type": "code",
   "execution_count": 35,
   "metadata": {},
   "outputs": [
    {
     "data": {
      "text/plain": [
       "DecisionTreeClassifier(ccp_alpha=0.0, class_weight=None, criterion='gini',\n",
       "                       max_depth=18, max_features=None, max_leaf_nodes=None,\n",
       "                       min_impurity_decrease=0.0, min_impurity_split=None,\n",
       "                       min_samples_leaf=9, min_samples_split=350,\n",
       "                       min_weight_fraction_leaf=0.0, presort='deprecated',\n",
       "                       random_state=None, splitter='best')"
      ]
     },
     "execution_count": 35,
     "metadata": {},
     "output_type": "execute_result"
    }
   ],
   "source": [
    "# Get the parameters that will make the best estimator. \n",
    "\n",
    "grid_cv_improved.best_estimator_"
   ]
  },
  {
   "cell_type": "code",
   "execution_count": 108,
   "metadata": {},
   "outputs": [],
   "source": [
    "# Create a model the these parameter values, fit them to the training set and predict the target variable in the test set. \n",
    "\n",
    "best_DT = DecisionTreeClassifier(max_depth = 18, min_samples_split = 350, min_samples_leaf = 9)\n",
    "best_fit_DT = best_DT.fit(X_train, y_train)"
   ]
  },
  {
   "cell_type": "code",
   "execution_count": 109,
   "metadata": {},
   "outputs": [
    {
     "data": {
      "text/plain": [
       "0.7733733620075846"
      ]
     },
     "execution_count": 109,
     "metadata": {},
     "output_type": "execute_result"
    }
   ],
   "source": [
    "prediction = best_DT.predict(X_train)\n",
    "balanced_accuracy_score(y_train, prediction)"
   ]
  },
  {
   "cell_type": "code",
   "execution_count": 110,
   "metadata": {},
   "outputs": [],
   "source": [
    "prediction = best_DT.predict(X_test)"
   ]
  },
  {
   "cell_type": "code",
   "execution_count": 111,
   "metadata": {},
   "outputs": [
    {
     "name": "stdout",
     "output_type": "stream",
     "text": [
      "[[4638  307]\n",
      " [ 630  938]]\n"
     ]
    }
   ],
   "source": [
    "# Obtain the confusion matrix. \n",
    "\n",
    "confusion_matrix_best = confusion_matrix(y_test, prediction)\n",
    "print(confusion_matrix_best)"
   ]
  },
  {
   "cell_type": "code",
   "execution_count": 112,
   "metadata": {},
   "outputs": [
    {
     "name": "stdout",
     "output_type": "stream",
     "text": [
      "              precision    recall  f1-score   support\n",
      "\n",
      "           0       0.88      0.94      0.91      4945\n",
      "           1       0.75      0.60      0.67      1568\n",
      "\n",
      "    accuracy                           0.86      6513\n",
      "   macro avg       0.82      0.77      0.79      6513\n",
      "weighted avg       0.85      0.86      0.85      6513\n",
      "\n"
     ]
    }
   ],
   "source": [
    "# Get the classification report and the error analysis values. \n",
    "\n",
    "print(classification_report(y_test, prediction))"
   ]
  },
  {
   "cell_type": "code",
   "execution_count": 113,
   "metadata": {},
   "outputs": [
    {
     "name": "stdout",
     "output_type": "stream",
     "text": [
      "0.7680656868409649\n"
     ]
    }
   ],
   "source": [
    "# Get the balanced accuracy. \n",
    "\n",
    "b_accuracy = balanced_accuracy_score(y_test, prediction)\n",
    "print(b_accuracy)"
   ]
  },
  {
   "cell_type": "code",
   "execution_count": 114,
   "metadata": {},
   "outputs": [
    {
     "data": {
      "text/plain": [
       "0.8561338860740059"
      ]
     },
     "execution_count": 114,
     "metadata": {},
     "output_type": "execute_result"
    }
   ],
   "source": [
    "# Get the accuracy score. \n",
    "\n",
    "from sklearn.metrics import accuracy_score\n",
    "accuracy_score(y_test, prediction, normalize = True)"
   ]
  },
  {
   "cell_type": "code",
   "execution_count": 115,
   "metadata": {},
   "outputs": [
    {
     "name": "stdout",
     "output_type": "stream",
     "text": [
      "0.7534136546184739\n"
     ]
    }
   ],
   "source": [
    "# Obtain the value for specificity. \n",
    "\n",
    "TN = 938\n",
    "FP = 307\n",
    "Specificity = TN/(TN+FP)\n",
    "print(Specificity)"
   ]
  },
  {
   "cell_type": "markdown",
   "metadata": {},
   "source": [
    "### Attempt Number Three"
   ]
  },
  {
   "cell_type": "code",
   "execution_count": 47,
   "metadata": {},
   "outputs": [],
   "source": [
    "# Use a different range of values for the parameters and use grid search. \n",
    "\n",
    "tuned = DecisionTreeClassifier()\n",
    "parameters = {'min_samples_split': [300, 350, 400, 450, 500], 'max_depth': [18, 20, 22, 24, 26], 'min_samples_leaf': [1,2,3, 4,5]}\n",
    "grid_cv_improved = GridSearchCV(estimator = tuned, param_grid = parameters, cv = 10)"
   ]
  },
  {
   "cell_type": "code",
   "execution_count": 43,
   "metadata": {},
   "outputs": [
    {
     "data": {
      "text/plain": [
       "GridSearchCV(cv=10, error_score=nan,\n",
       "             estimator=DecisionTreeClassifier(ccp_alpha=0.0, class_weight=None,\n",
       "                                              criterion='gini', max_depth=None,\n",
       "                                              max_features=None,\n",
       "                                              max_leaf_nodes=None,\n",
       "                                              min_impurity_decrease=0.0,\n",
       "                                              min_impurity_split=None,\n",
       "                                              min_samples_leaf=1,\n",
       "                                              min_samples_split=2,\n",
       "                                              min_weight_fraction_leaf=0.0,\n",
       "                                              presort='deprecated',\n",
       "                                              random_state=None,\n",
       "                                              splitter='best'),\n",
       "             iid='deprecated', n_jobs=None,\n",
       "             param_grid={'max_depth': [18, 20, 22, 24, 26],\n",
       "                         'min_samples_leaf': [1, 2, 3, 4, 5],\n",
       "                         'min_samples_split': [300, 350, 400, 450, 500]},\n",
       "             pre_dispatch='2*n_jobs', refit=True, return_train_score=False,\n",
       "             scoring=None, verbose=0)"
      ]
     },
     "execution_count": 43,
     "metadata": {},
     "output_type": "execute_result"
    }
   ],
   "source": [
    "# Fit to the training set. \n",
    "\n",
    "grid_cv_improved.fit(X_train, y_train)"
   ]
  },
  {
   "cell_type": "code",
   "execution_count": 44,
   "metadata": {},
   "outputs": [
    {
     "data": {
      "text/plain": [
       "DecisionTreeClassifier(ccp_alpha=0.0, class_weight=None, criterion='gini',\n",
       "                       max_depth=24, max_features=None, max_leaf_nodes=None,\n",
       "                       min_impurity_decrease=0.0, min_impurity_split=None,\n",
       "                       min_samples_leaf=5, min_samples_split=350,\n",
       "                       min_weight_fraction_leaf=0.0, presort='deprecated',\n",
       "                       random_state=None, splitter='best')"
      ]
     },
     "execution_count": 44,
     "metadata": {},
     "output_type": "execute_result"
    }
   ],
   "source": [
    "# Obtain the best estimator. \n",
    "\n",
    "grid_cv_improved.best_estimator_"
   ]
  },
  {
   "cell_type": "code",
   "execution_count": 116,
   "metadata": {},
   "outputs": [
    {
     "data": {
      "text/plain": [
       "0.7802705230592129"
      ]
     },
     "execution_count": 116,
     "metadata": {},
     "output_type": "execute_result"
    }
   ],
   "source": [
    "# Using the model with the parameters of the best estimator, fit the model to the training set and predict the target variable of the training set. \n",
    "\n",
    "best_DT = DecisionTreeClassifier(max_depth = 24, min_samples_split = 350, min_samples_leaf = 5)\n",
    "best_fit_DT = best_DT.fit(X_train, y_train)\n",
    "prediction_train = best_DT.predict(X_train)\n",
    "acc_train = balanced_accuracy_score(y_train, prediction_train)\n",
    "acc_train"
   ]
  },
  {
   "cell_type": "code",
   "execution_count": 117,
   "metadata": {},
   "outputs": [],
   "source": [
    "# Predict the target variable of the test set. \n",
    "\n",
    "prediction = best_DT.predict(X_test)"
   ]
  },
  {
   "cell_type": "code",
   "execution_count": 118,
   "metadata": {},
   "outputs": [],
   "source": [
    "importance = best_DT.feature_importances_\n",
    "from matplotlib import pyplot"
   ]
  },
  {
   "cell_type": "code",
   "execution_count": 119,
   "metadata": {},
   "outputs": [],
   "source": [
    "importance = sorted(importance, reverse = True)"
   ]
  },
  {
   "cell_type": "code",
   "execution_count": 120,
   "metadata": {},
   "outputs": [
    {
     "name": "stdout",
     "output_type": "stream",
     "text": [
      "feature: age, importance: 0.38669\n",
      "feature: fnlwgt, importance: 0.21619\n",
      "feature: education, importance: 0.20424\n",
      "feature: capital.gain, importance: 0.04909\n",
      "feature: capital.loss, importance: 0.04741\n",
      "feature: hours.per.week, importance: 0.03676\n",
      "feature: native.country, importance: 0.00976\n",
      "feature: sex_Female, importance: 0.00889\n",
      "feature: sex_Male, importance: 0.00850\n",
      "feature: race_Amer-Indian-Eskimo, importance: 0.00652\n",
      "feature: race_Asian-Pac-Islander, importance: 0.00479\n",
      "feature: race_Black, importance: 0.00420\n",
      "feature: race_Other, importance: 0.00357\n",
      "feature: race_White, importance: 0.00279\n",
      "feature: relationship_Husband, importance: 0.00190\n",
      "feature: relationship_Not-in-family, importance: 0.00138\n",
      "feature: relationship_Other-relative, importance: 0.00085\n",
      "feature: relationship_Own-child, importance: 0.00085\n",
      "feature: relationship_Unmarried, importance: 0.00084\n",
      "feature: relationship_Wife, importance: 0.00082\n",
      "feature: occupation_Adm-clerical, importance: 0.00071\n",
      "feature: occupation_Armed-Forces, importance: 0.00065\n",
      "feature: occupation_Craft-repair, importance: 0.00062\n",
      "feature: occupation_Exec-managerial, importance: 0.00052\n",
      "feature: occupation_Farming-fishing, importance: 0.00048\n",
      "feature: occupation_Handlers-cleaners, importance: 0.00041\n",
      "feature: occupation_Machine-op-inspct, importance: 0.00036\n",
      "feature: occupation_Other-service, importance: 0.00012\n",
      "feature: occupation_Priv-house-serv, importance: 0.00007\n",
      "feature: occupation_Prof-specialty, importance: 0.00002\n",
      "feature: occupation_Protective-serv, importance: 0.00000\n",
      "feature: occupation_Sales, importance: 0.00000\n",
      "feature: occupation_Tech-support, importance: 0.00000\n",
      "feature: occupation_Transport-moving, importance: 0.00000\n",
      "feature: occupation_unknown, importance: 0.00000\n",
      "feature: marital.status_Never-married, importance: 0.00000\n",
      "feature: marital.status_married, importance: 0.00000\n",
      "feature: marital.status_single, importance: 0.00000\n",
      "feature: workclass_never-worked, importance: 0.00000\n",
      "feature: workclass_private, importance: 0.00000\n",
      "feature: workclass_public, importance: 0.00000\n",
      "feature: workclass_unknown, importance: 0.00000\n",
      "feature: workclass_without-pay, importance: 0.00000\n"
     ]
    }
   ],
   "source": [
    "# Feature importances of the best model was assessed. \n",
    "\n",
    "for i,v in zip(adult.columns, importance):\n",
    "    print ('feature: %s, importance: %.5f'%(i,v))"
   ]
  },
  {
   "cell_type": "code",
   "execution_count": 121,
   "metadata": {},
   "outputs": [
    {
     "data": {
      "image/png": "[encoded data removed]",
      "text/plain": [
       "<Figure size 432x288 with 1 Axes>"
      ]
     },
     "metadata": {
      "needs_background": "light"
     },
     "output_type": "display_data"
    }
   ],
   "source": [
    "pyplot.bar([x for x in range(len(importance))], importance)\n",
    "pyplot.title('Feature Number vs. Importance (Decision Tree)')\n",
    "pyplot.xlabel('Feature Number')\n",
    "pyplot.ylabel('Importance')\n",
    "pyplot.show()"
   ]
  },
  {
   "cell_type": "code",
   "execution_count": 122,
   "metadata": {},
   "outputs": [
    {
     "name": "stdout",
     "output_type": "stream",
     "text": [
      "[[4617  328]\n",
      " [ 610  958]]\n"
     ]
    }
   ],
   "source": [
    "# Get the confusion matrix. \n",
    "\n",
    "confusion_matrix_best = confusion_matrix(y_test, prediction)\n",
    "print(confusion_matrix_best)"
   ]
  },
  {
   "cell_type": "code",
   "execution_count": 123,
   "metadata": {},
   "outputs": [
    {
     "name": "stdout",
     "output_type": "stream",
     "text": [
      "              precision    recall  f1-score   support\n",
      "\n",
      "           0       0.88      0.93      0.91      4945\n",
      "           1       0.74      0.61      0.67      1568\n",
      "\n",
      "    accuracy                           0.86      6513\n",
      "   macro avg       0.81      0.77      0.79      6513\n",
      "weighted avg       0.85      0.86      0.85      6513\n",
      "\n"
     ]
    }
   ],
   "source": [
    "# Get the classification report with the error analysis. \n",
    "\n",
    "print(classification_report(y_test, prediction))"
   ]
  },
  {
   "cell_type": "code",
   "execution_count": 124,
   "metadata": {},
   "outputs": [
    {
     "name": "stdout",
     "output_type": "stream",
     "text": [
      "0.772319880935185\n"
     ]
    }
   ],
   "source": [
    "# Get the balanced accuracy. \n",
    "\n",
    "b_accuracy = balanced_accuracy_score(y_test, prediction)\n",
    "print(b_accuracy)"
   ]
  },
  {
   "cell_type": "code",
   "execution_count": 125,
   "metadata": {},
   "outputs": [
    {
     "data": {
      "text/plain": [
       "0.855980346998311"
      ]
     },
     "execution_count": 125,
     "metadata": {},
     "output_type": "execute_result"
    }
   ],
   "source": [
    "# Get the accuracy score. \n",
    "\n",
    "from sklearn.metrics import accuracy_score\n",
    "accuracy_score(y_test, prediction, normalize = True)"
   ]
  },
  {
   "cell_type": "code",
   "execution_count": 126,
   "metadata": {},
   "outputs": [
    {
     "name": "stdout",
     "output_type": "stream",
     "text": [
      "0.744945567651633\n"
     ]
    }
   ],
   "source": [
    "# Get the specificity. \n",
    "\n",
    "TN = 958\n",
    "FP = 328\n",
    "Specificity = TN/(TN+FP)\n",
    "print(Specificity)"
   ]
  },
  {
   "cell_type": "markdown",
   "metadata": {},
   "source": [
    "## Random Forest Model"
   ]
  },
  {
   "cell_type": "code",
   "execution_count": 59,
   "metadata": {},
   "outputs": [],
   "source": [
    "# Create the random forest classifier. \n",
    "\n",
    "from sklearn.ensemble import RandomForestClassifier\n",
    "RF = RandomForestClassifier()"
   ]
  },
  {
   "cell_type": "code",
   "execution_count": 60,
   "metadata": {},
   "outputs": [
    {
     "data": {
      "text/plain": [
       "RandomForestClassifier(bootstrap=True, ccp_alpha=0.0, class_weight=None,\n",
       "                       criterion='gini', max_depth=None, max_features='auto',\n",
       "                       max_leaf_nodes=None, max_samples=None,\n",
       "                       min_impurity_decrease=0.0, min_impurity_split=None,\n",
       "                       min_samples_leaf=1, min_samples_split=2,\n",
       "                       min_weight_fraction_leaf=0.0, n_estimators=100,\n",
       "                       n_jobs=None, oob_score=False, random_state=None,\n",
       "                       verbose=0, warm_start=False)"
      ]
     },
     "execution_count": 60,
     "metadata": {},
     "output_type": "execute_result"
    }
   ],
   "source": [
    "# Fit the model to the training set.\n",
    "\n",
    "RF.fit(X_train, y_train)"
   ]
  },
  {
   "cell_type": "code",
   "execution_count": 61,
   "metadata": {},
   "outputs": [],
   "source": [
    "# Feature importances of the best model was assessed. \n",
    "\n",
    "importance = RF.feature_importances_\n",
    "importance = sorted(importance, reverse = True)"
   ]
  },
  {
   "cell_type": "code",
   "execution_count": 62,
   "metadata": {},
   "outputs": [
    {
     "name": "stdout",
     "output_type": "stream",
     "text": [
      "feature: age, importance: 0.19313\n",
      "feature: fnlwgt, importance: 0.16456\n",
      "feature: education, importance: 0.10687\n",
      "feature: capital.gain, importance: 0.09885\n",
      "feature: capital.loss, importance: 0.08885\n",
      "feature: hours.per.week, importance: 0.06777\n",
      "feature: native.country, importance: 0.04610\n",
      "feature: sex_Female, importance: 0.03412\n",
      "feature: sex_Male, importance: 0.02374\n",
      "feature: race_Amer-Indian-Eskimo, importance: 0.01625\n",
      "feature: race_Asian-Pac-Islander, importance: 0.01617\n",
      "feature: race_Black, importance: 0.01178\n",
      "feature: race_Other, importance: 0.00971\n",
      "feature: race_White, importance: 0.00838\n",
      "feature: relationship_Husband, importance: 0.00752\n",
      "feature: relationship_Not-in-family, importance: 0.00735\n",
      "feature: relationship_Other-relative, importance: 0.00720\n",
      "feature: relationship_Own-child, importance: 0.00651\n",
      "feature: relationship_Unmarried, importance: 0.00636\n",
      "feature: relationship_Wife, importance: 0.00632\n",
      "feature: occupation_Adm-clerical, importance: 0.00630\n",
      "feature: occupation_Armed-Forces, importance: 0.00627\n",
      "feature: occupation_Craft-repair, importance: 0.00601\n",
      "feature: occupation_Exec-managerial, importance: 0.00596\n",
      "feature: occupation_Farming-fishing, importance: 0.00529\n",
      "feature: occupation_Handlers-cleaners, importance: 0.00474\n",
      "feature: occupation_Machine-op-inspct, importance: 0.00467\n",
      "feature: occupation_Other-service, importance: 0.00459\n",
      "feature: occupation_Priv-house-serv, importance: 0.00425\n",
      "feature: occupation_Prof-specialty, importance: 0.00388\n",
      "feature: occupation_Protective-serv, importance: 0.00388\n",
      "feature: occupation_Sales, importance: 0.00323\n",
      "feature: occupation_Tech-support, importance: 0.00321\n",
      "feature: occupation_Transport-moving, importance: 0.00292\n",
      "feature: occupation_unknown, importance: 0.00184\n",
      "feature: marital.status_Never-married, importance: 0.00165\n",
      "feature: marital.status_married, importance: 0.00133\n",
      "feature: marital.status_single, importance: 0.00128\n",
      "feature: workclass_never-worked, importance: 0.00094\n",
      "feature: workclass_private, importance: 0.00014\n",
      "feature: workclass_public, importance: 0.00006\n",
      "feature: workclass_unknown, importance: 0.00001\n",
      "feature: workclass_without-pay, importance: 0.00001\n"
     ]
    }
   ],
   "source": [
    "for i,v in zip(adult.columns, importance):\n",
    "    print ('feature: %s, importance: %.5f'%(i,v))"
   ]
  },
  {
   "cell_type": "code",
   "execution_count": 63,
   "metadata": {},
   "outputs": [
    {
     "data": {
      "image/png": "[encoded data removed]",
      "text/plain": [
       "<Figure size 432x288 with 1 Axes>"
      ]
     },
     "metadata": {
      "needs_background": "light"
     },
     "output_type": "display_data"
    }
   ],
   "source": [
    "pyplot.bar([x for x in range(len(importance))], importance)\n",
    "pyplot.title('Feature Number vs. Importance (Random Forest)')\n",
    "pyplot.xlabel('Feature Number')\n",
    "pyplot.ylabel('Importance')\n",
    "pyplot.show()"
   ]
  },
  {
   "cell_type": "code",
   "execution_count": 64,
   "metadata": {},
   "outputs": [
    {
     "data": {
      "text/plain": [
       "0.9996014666029014"
      ]
     },
     "execution_count": 64,
     "metadata": {},
     "output_type": "execute_result"
    }
   ],
   "source": [
    "# Predict the target value in the training set with the feature variables and calculate the accuracy score. \n",
    "\n",
    "prediction = RF.predict(X_train)\n",
    "balanced_accuracy_score(y_train, prediction)"
   ]
  },
  {
   "cell_type": "code",
   "execution_count": 65,
   "metadata": {},
   "outputs": [
    {
     "data": {
      "text/plain": [
       "0.8522954091816367"
      ]
     },
     "execution_count": 65,
     "metadata": {},
     "output_type": "execute_result"
    }
   ],
   "source": [
    "# Predict the target value in the test set with the feature variables in the test set and calculate the accuracy score. \n",
    "\n",
    "prediction = RF.predict(X_test)\n",
    "metrics.accuracy_score(y_true = y_test, y_pred = prediction)"
   ]
  },
  {
   "cell_type": "code",
   "execution_count": 66,
   "metadata": {},
   "outputs": [
    {
     "name": "stdout",
     "output_type": "stream",
     "text": [
      "[[4564  381]\n",
      " [ 581  987]]\n"
     ]
    }
   ],
   "source": [
    "# Get the confusion matrix. \n",
    "\n",
    "confusion_matrix_new = confusion_matrix(y_test, prediction)\n",
    "print(confusion_matrix_new)"
   ]
  },
  {
   "cell_type": "code",
   "execution_count": 67,
   "metadata": {},
   "outputs": [
    {
     "name": "stdout",
     "output_type": "stream",
     "text": [
      "              precision    recall  f1-score   support\n",
      "\n",
      "           0       0.89      0.92      0.90      4945\n",
      "           1       0.72      0.63      0.67      1568\n",
      "\n",
      "    accuracy                           0.85      6513\n",
      "   macro avg       0.80      0.78      0.79      6513\n",
      "weighted avg       0.85      0.85      0.85      6513\n",
      "\n"
     ]
    }
   ],
   "source": [
    "# Obtain the error analysis and the classification report. \n",
    "\n",
    "print(classification_report(y_test, prediction))"
   ]
  },
  {
   "cell_type": "code",
   "execution_count": 68,
   "metadata": {},
   "outputs": [
    {
     "name": "stdout",
     "output_type": "stream",
     "text": [
      "0.716255442670537\n"
     ]
    }
   ],
   "source": [
    "# Get the specificity value. \n",
    "\n",
    "TN = 987\n",
    "FP = 391\n",
    "Specificity = TN/(TN+FP)\n",
    "print(Specificity)"
   ]
  },
  {
   "cell_type": "code",
   "execution_count": 69,
   "metadata": {},
   "outputs": [
    {
     "name": "stdout",
     "output_type": "stream",
     "text": [
      "0.7762083814820164\n"
     ]
    }
   ],
   "source": [
    "# Obtain the balanced accuracy. \n",
    "\n",
    "b_accuracy = balanced_accuracy_score(y_test, prediction)\n",
    "print(b_accuracy)"
   ]
  },
  {
   "cell_type": "markdown",
   "metadata": {},
   "source": [
    "### Improving the Random Forest Model"
   ]
  },
  {
   "cell_type": "code",
   "execution_count": 70,
   "metadata": {},
   "outputs": [],
   "source": [
    "# Improve and increase the accuracy by searching through parameter values using grid search. \n",
    "\n",
    "RF_best = RandomForestClassifier()\n",
    "parameters_best = {'min_samples_split': [10, 50, 100], 'max_depth': [4, 8, 12], 'n_estimators': [100, 150, 200]}\n",
    "grid_cv_best = GridSearchCV(estimator = RF_best, param_grid = parameters_best, cv = 10)"
   ]
  },
  {
   "cell_type": "code",
   "execution_count": 63,
   "metadata": {},
   "outputs": [
    {
     "data": {
      "text/plain": [
       "GridSearchCV(cv=10, error_score=nan,\n",
       "             estimator=RandomForestClassifier(bootstrap=True, ccp_alpha=0.0,\n",
       "                                              class_weight=None,\n",
       "                                              criterion='gini', max_depth=None,\n",
       "                                              max_features='auto',\n",
       "                                              max_leaf_nodes=None,\n",
       "                                              max_samples=None,\n",
       "                                              min_impurity_decrease=0.0,\n",
       "                                              min_impurity_split=None,\n",
       "                                              min_samples_leaf=1,\n",
       "                                              min_samples_split=2,\n",
       "                                              min_weight_fraction_leaf=0.0,\n",
       "                                              n_estimators=100, n_jobs=None,\n",
       "                                              oob_score=False,\n",
       "                                              random_state=None, verbose=0,\n",
       "                                              warm_start=False),\n",
       "             iid='deprecated', n_jobs=None,\n",
       "             param_grid={'max_depth': [4, 8, 12],\n",
       "                         'min_samples_split': [10, 50, 100],\n",
       "                         'n_estimators': [100, 150, 200]},\n",
       "             pre_dispatch='2*n_jobs', refit=True, return_train_score=False,\n",
       "             scoring=None, verbose=0)"
      ]
     },
     "execution_count": 63,
     "metadata": {},
     "output_type": "execute_result"
    }
   ],
   "source": [
    "# Fit to the training set. \n",
    "\n",
    "grid_cv_best.fit(X_train, y_train)"
   ]
  },
  {
   "cell_type": "code",
   "execution_count": 64,
   "metadata": {},
   "outputs": [
    {
     "data": {
      "text/plain": [
       "RandomForestClassifier(bootstrap=True, ccp_alpha=0.0, class_weight=None,\n",
       "                       criterion='gini', max_depth=12, max_features='auto',\n",
       "                       max_leaf_nodes=None, max_samples=None,\n",
       "                       min_impurity_decrease=0.0, min_impurity_split=None,\n",
       "                       min_samples_leaf=1, min_samples_split=10,\n",
       "                       min_weight_fraction_leaf=0.0, n_estimators=150,\n",
       "                       n_jobs=None, oob_score=False, random_state=None,\n",
       "                       verbose=0, warm_start=False)"
      ]
     },
     "execution_count": 64,
     "metadata": {},
     "output_type": "execute_result"
    }
   ],
   "source": [
    "# Get the parameter values for the best estimator. \n",
    "\n",
    "grid_cv_best.best_estimator_"
   ]
  },
  {
   "cell_type": "code",
   "execution_count": 133,
   "metadata": {},
   "outputs": [
    {
     "data": {
      "text/plain": [
       "0.7737547448650659"
      ]
     },
     "execution_count": 133,
     "metadata": {},
     "output_type": "execute_result"
    }
   ],
   "source": [
    "# Create the model with these values, fit the model to the training set and predict the target variable in the test set and calculate the accuracy score. \n",
    "\n",
    "best_model_RF = RandomForestClassifier(max_depth = 12, n_estimators = 150, min_samples_split = 10, min_samples_leaf = 1)\n",
    "clf_model_fit = best_model_RF.fit(X_train, y_train)\n",
    "prediction_best_model = best_model_RF.predict(X_train)\n",
    "balanced_accuracy_score(y_train, prediction_best_model)"
   ]
  },
  {
   "cell_type": "code",
   "execution_count": 134,
   "metadata": {},
   "outputs": [
    {
     "data": {
      "text/plain": [
       "0.8593582066635959"
      ]
     },
     "execution_count": 134,
     "metadata": {},
     "output_type": "execute_result"
    }
   ],
   "source": [
    "prediction_best_model = best_model_RF.predict(X_test)\n",
    "metrics.accuracy_score(y_true = y_test, y_pred = prediction_best_model)"
   ]
  },
  {
   "cell_type": "code",
   "execution_count": 135,
   "metadata": {},
   "outputs": [
    {
     "name": "stdout",
     "output_type": "stream",
     "text": [
      "[[4729  216]\n",
      " [ 700  868]]\n"
     ]
    }
   ],
   "source": [
    "# Print the confusion matrix. \n",
    "\n",
    "confusion_matrix_new = confusion_matrix(y_test, prediction_best_model)\n",
    "print(confusion_matrix_new)"
   ]
  },
  {
   "cell_type": "code",
   "execution_count": 136,
   "metadata": {},
   "outputs": [
    {
     "name": "stdout",
     "output_type": "stream",
     "text": [
      "              precision    recall  f1-score   support\n",
      "\n",
      "           0       0.87      0.96      0.91      4945\n",
      "           1       0.80      0.55      0.65      1568\n",
      "\n",
      "    accuracy                           0.86      6513\n",
      "   macro avg       0.84      0.75      0.78      6513\n",
      "weighted avg       0.85      0.86      0.85      6513\n",
      "\n"
     ]
    }
   ],
   "source": [
    "# Print the classification report with the error analysis. \n",
    "\n",
    "print(classification_report(y_test, prediction_best_model))"
   ]
  },
  {
   "cell_type": "code",
   "execution_count": 137,
   "metadata": {},
   "outputs": [
    {
     "name": "stdout",
     "output_type": "stream",
     "text": [
      "0.8007380073800738\n"
     ]
    }
   ],
   "source": [
    "# Get the specificity value. \n",
    "\n",
    "TN = 868\n",
    "FP = 216\n",
    "Specificity = TN/(TN+FP)\n",
    "print(Specificity)"
   ]
  },
  {
   "cell_type": "code",
   "execution_count": 138,
   "metadata": {},
   "outputs": [
    {
     "name": "stdout",
     "output_type": "stream",
     "text": [
      "0.7549454716163513\n"
     ]
    }
   ],
   "source": [
    "# Get the balanced accuracy. \n",
    "\n",
    "b_accuracy = balanced_accuracy_score(y_test, prediction_best_model)\n",
    "print(b_accuracy)"
   ]
  },
  {
   "cell_type": "markdown",
   "metadata": {},
   "source": [
    "### Attempt Number Two"
   ]
  },
  {
   "cell_type": "code",
   "execution_count": 78,
   "metadata": {},
   "outputs": [],
   "source": [
    "# Change the range of parameter values and grid search through them. \n",
    "\n",
    "RF_best2 = RandomForestClassifier()\n",
    "parameters_best2 = {'min_samples_split': [10, 50, 100], 'max_depth': [4, 8, 12], 'n_estimators': [100, 150, 200], 'min_samples_leaf': [2, 4, 6] }\n",
    "grid_cv_best2 = GridSearchCV(estimator = RF_best2, param_grid = parameters_best2, cv = 10)"
   ]
  },
  {
   "cell_type": "code",
   "execution_count": 71,
   "metadata": {},
   "outputs": [
    {
     "data": {
      "text/plain": [
       "GridSearchCV(cv=10, error_score=nan,\n",
       "             estimator=RandomForestClassifier(bootstrap=True, ccp_alpha=0.0,\n",
       "                                              class_weight=None,\n",
       "                                              criterion='gini', max_depth=None,\n",
       "                                              max_features='auto',\n",
       "                                              max_leaf_nodes=None,\n",
       "                                              max_samples=None,\n",
       "                                              min_impurity_decrease=0.0,\n",
       "                                              min_impurity_split=None,\n",
       "                                              min_samples_leaf=1,\n",
       "                                              min_samples_split=2,\n",
       "                                              min_weight_fraction_leaf=0.0,\n",
       "                                              n_estimators=100, n_jobs=None,\n",
       "                                              oob_score=False,\n",
       "                                              random_state=None, verbose=0,\n",
       "                                              warm_start=False),\n",
       "             iid='deprecated', n_jobs=None,\n",
       "             param_grid={'max_depth': [4, 8, 12], 'min_samples_leaf': [2, 4, 6],\n",
       "                         'min_samples_split': [10, 50, 100],\n",
       "                         'n_estimators': [100, 150, 200]},\n",
       "             pre_dispatch='2*n_jobs', refit=True, return_train_score=False,\n",
       "             scoring=None, verbose=0)"
      ]
     },
     "execution_count": 71,
     "metadata": {},
     "output_type": "execute_result"
    }
   ],
   "source": [
    "# Fit the model to the training set. \n",
    "\n",
    "grid_cv_best2.fit(X_train, y_train)"
   ]
  },
  {
   "cell_type": "code",
   "execution_count": 72,
   "metadata": {},
   "outputs": [
    {
     "data": {
      "text/plain": [
       "RandomForestClassifier(bootstrap=True, ccp_alpha=0.0, class_weight=None,\n",
       "                       criterion='gini', max_depth=12, max_features='auto',\n",
       "                       max_leaf_nodes=None, max_samples=None,\n",
       "                       min_impurity_decrease=0.0, min_impurity_split=None,\n",
       "                       min_samples_leaf=2, min_samples_split=10,\n",
       "                       min_weight_fraction_leaf=0.0, n_estimators=200,\n",
       "                       n_jobs=None, oob_score=False, random_state=None,\n",
       "                       verbose=0, warm_start=False)"
      ]
     },
     "execution_count": 72,
     "metadata": {},
     "output_type": "execute_result"
    }
   ],
   "source": [
    "# Get the parameter values that are the best estimators. \n",
    "\n",
    "grid_cv_best2.best_estimator_"
   ]
  },
  {
   "cell_type": "code",
   "execution_count": 139,
   "metadata": {},
   "outputs": [
    {
     "data": {
      "text/plain": [
       "0.7685793528865608"
      ]
     },
     "execution_count": 139,
     "metadata": {},
     "output_type": "execute_result"
    }
   ],
   "source": [
    "# Create a model with these parameter values, fit them to the training set, predict the target variable from the test set and get the accuracy score. \n",
    "\n",
    "best_model_RF2 = RandomForestClassifier(max_depth = 12, n_estimators = 200, min_samples_split = 10, min_samples_leaf = 2)\n",
    "clf_model_fit2 = best_model_RF2.fit(X_train, y_train)\n",
    "prediction_best_model2 = best_model_RF2.predict(X_train)\n",
    "balanced_accuracy_score(y_true = y_train, y_pred = prediction_best_model2)"
   ]
  },
  {
   "cell_type": "code",
   "execution_count": 140,
   "metadata": {},
   "outputs": [
    {
     "data": {
      "text/plain": [
       "0.8598188238906802"
      ]
     },
     "execution_count": 140,
     "metadata": {},
     "output_type": "execute_result"
    }
   ],
   "source": [
    "prediction_best_model2 = best_model_RF2.predict(X_test)\n",
    "metrics.accuracy_score(y_true = y_test, y_pred = prediction_best_model2)"
   ]
  },
  {
   "cell_type": "code",
   "execution_count": 141,
   "metadata": {},
   "outputs": [
    {
     "name": "stdout",
     "output_type": "stream",
     "text": [
      "[[4733  212]\n",
      " [ 701  867]]\n"
     ]
    }
   ],
   "source": [
    "# Print the confusion matrix. \n",
    "\n",
    "confusion_matrix_new = confusion_matrix(y_test, prediction_best_model2)\n",
    "print(confusion_matrix_new)"
   ]
  },
  {
   "cell_type": "code",
   "execution_count": 142,
   "metadata": {},
   "outputs": [
    {
     "name": "stdout",
     "output_type": "stream",
     "text": [
      "              precision    recall  f1-score   support\n",
      "\n",
      "           0       0.87      0.96      0.91      4945\n",
      "           1       0.80      0.55      0.66      1568\n",
      "\n",
      "    accuracy                           0.86      6513\n",
      "   macro avg       0.84      0.76      0.78      6513\n",
      "weighted avg       0.85      0.86      0.85      6513\n",
      "\n"
     ]
    }
   ],
   "source": [
    "# Print the classification report with the error analysis. \n",
    "\n",
    "print(classification_report(y_test, prediction_best_model2))"
   ]
  },
  {
   "cell_type": "code",
   "execution_count": 143,
   "metadata": {},
   "outputs": [
    {
     "name": "stdout",
     "output_type": "stream",
     "text": [
      "0.8035217794253939\n"
     ]
    }
   ],
   "source": [
    "# Get the specificity value. \n",
    "\n",
    "TN = 867\n",
    "FP = 212\n",
    "Specificity = TN/(TN+FP)\n",
    "print(Specificity)"
   ]
  },
  {
   "cell_type": "code",
   "execution_count": 144,
   "metadata": {},
   "outputs": [
    {
     "name": "stdout",
     "output_type": "stream",
     "text": [
      "0.7550310430036524\n"
     ]
    }
   ],
   "source": [
    "# Get the balanced accuracy. \n",
    "\n",
    "b_accuracy = balanced_accuracy_score(y_test, prediction_best_model2)\n",
    "print(b_accuracy)"
   ]
  },
  {
   "cell_type": "markdown",
   "metadata": {},
   "source": [
    "### Attempt Number Three"
   ]
  },
  {
   "cell_type": "code",
   "execution_count": 80,
   "metadata": {},
   "outputs": [],
   "source": [
    "# Expand the range of parameter values again and add another parameter min_samples_leaf. \n",
    "\n",
    "RF_best3 = RandomForestClassifier()\n",
    "parameters_best3 = {'min_samples_split': [125, 150, 175], 'max_depth': [6, 12, 18], 'n_estimators': [50, 100, 150], 'min_samples_leaf': [2, 4, 6] }\n",
    "grid_cv_best3 = GridSearchCV(estimator = RF_best3, param_grid = parameters_best3, cv = 10)"
   ]
  },
  {
   "cell_type": "code",
   "execution_count": 81,
   "metadata": {},
   "outputs": [
    {
     "data": {
      "text/plain": [
       "GridSearchCV(cv=10, error_score=nan,\n",
       "             estimator=RandomForestClassifier(bootstrap=True, ccp_alpha=0.0,\n",
       "                                              class_weight=None,\n",
       "                                              criterion='gini', max_depth=None,\n",
       "                                              max_features='auto',\n",
       "                                              max_leaf_nodes=None,\n",
       "                                              max_samples=None,\n",
       "                                              min_impurity_decrease=0.0,\n",
       "                                              min_impurity_split=None,\n",
       "                                              min_samples_leaf=1,\n",
       "                                              min_samples_split=2,\n",
       "                                              min_weight_fraction_leaf=0.0,\n",
       "                                              n_estimators=100, n_jobs=None,\n",
       "                                              oob_score=False,\n",
       "                                              random_state=None, verbose=0,\n",
       "                                              warm_start=False),\n",
       "             iid='deprecated', n_jobs=None,\n",
       "             param_grid={'max_depth': [6, 12, 18],\n",
       "                         'min_samples_leaf': [2, 4, 6],\n",
       "                         'min_samples_split': [125, 150, 175],\n",
       "                         'n_estimators': [50, 100, 150]},\n",
       "             pre_dispatch='2*n_jobs', refit=True, return_train_score=False,\n",
       "             scoring=None, verbose=0)"
      ]
     },
     "execution_count": 81,
     "metadata": {},
     "output_type": "execute_result"
    }
   ],
   "source": [
    "# Fit to the training set. \n",
    "\n",
    "grid_cv_best3.fit(X_train, y_train)"
   ]
  },
  {
   "cell_type": "code",
   "execution_count": 82,
   "metadata": {},
   "outputs": [
    {
     "data": {
      "text/plain": [
       "RandomForestClassifier(bootstrap=True, ccp_alpha=0.0, class_weight=None,\n",
       "                       criterion='gini', max_depth=18, max_features='auto',\n",
       "                       max_leaf_nodes=None, max_samples=None,\n",
       "                       min_impurity_decrease=0.0, min_impurity_split=None,\n",
       "                       min_samples_leaf=2, min_samples_split=125,\n",
       "                       min_weight_fraction_leaf=0.0, n_estimators=150,\n",
       "                       n_jobs=None, oob_score=False, random_state=None,\n",
       "                       verbose=0, warm_start=False)"
      ]
     },
     "execution_count": 82,
     "metadata": {},
     "output_type": "execute_result"
    }
   ],
   "source": [
    "# Get the parameter values that are the best estimator. \n",
    "\n",
    "grid_cv_best3.best_estimator_"
   ]
  },
  {
   "cell_type": "code",
   "execution_count": 145,
   "metadata": {},
   "outputs": [
    {
     "data": {
      "text/plain": [
       "0.7729288022857175"
      ]
     },
     "execution_count": 145,
     "metadata": {},
     "output_type": "execute_result"
    }
   ],
   "source": [
    "# Create the model with the best parameter values. \n",
    "\n",
    "best_model_RF3 = RandomForestClassifier(max_depth = 18, n_estimators = 150, min_samples_split = 125, min_samples_leaf = 2)\n",
    "clf_model_fit3 = best_model_RF3.fit(X_train, y_train)\n",
    "prediction_best_model3 = best_model_RF3.predict(X_train)\n",
    "balanced_accuracy_score(y_train, prediction_best_model3)"
   ]
  },
  {
   "cell_type": "code",
   "execution_count": 146,
   "metadata": {},
   "outputs": [
    {
     "data": {
      "text/plain": [
       "0.8613542146476278"
      ]
     },
     "execution_count": 146,
     "metadata": {},
     "output_type": "execute_result"
    }
   ],
   "source": [
    "prediction_best_model3 = best_model_RF3.predict(X_test)\n",
    "metrics.accuracy_score(y_true = y_test, y_pred = prediction_best_model3)"
   ]
  },
  {
   "cell_type": "code",
   "execution_count": 147,
   "metadata": {},
   "outputs": [
    {
     "name": "stdout",
     "output_type": "stream",
     "text": [
      "[[4711  234]\n",
      " [ 669  899]]\n"
     ]
    }
   ],
   "source": [
    "# Print the confusion matrix. \n",
    "\n",
    "confusion_matrix_new = confusion_matrix(y_test, prediction_best_model3)\n",
    "print(confusion_matrix_new)"
   ]
  },
  {
   "cell_type": "code",
   "execution_count": 148,
   "metadata": {},
   "outputs": [
    {
     "name": "stdout",
     "output_type": "stream",
     "text": [
      "              precision    recall  f1-score   support\n",
      "\n",
      "           0       0.88      0.95      0.91      4945\n",
      "           1       0.79      0.57      0.67      1568\n",
      "\n",
      "    accuracy                           0.86      6513\n",
      "   macro avg       0.83      0.76      0.79      6513\n",
      "weighted avg       0.86      0.86      0.85      6513\n",
      "\n"
     ]
    }
   ],
   "source": [
    "# Print the classification report with the error analysis. \n",
    "\n",
    "print(classification_report(y_test, prediction_best_model3))"
   ]
  },
  {
   "cell_type": "code",
   "execution_count": 149,
   "metadata": {},
   "outputs": [
    {
     "name": "stdout",
     "output_type": "stream",
     "text": [
      "0.793468667255075\n"
     ]
    }
   ],
   "source": [
    "# Get the specificity value. \n",
    "\n",
    "TN = 899\n",
    "FP = 234\n",
    "Specificity = TN/(TN+FP)\n",
    "print(Specificity)"
   ]
  },
  {
   "cell_type": "code",
   "execution_count": 150,
   "metadata": {},
   "outputs": [
    {
     "name": "stdout",
     "output_type": "stream",
     "text": [
      "0.763010655475537\n"
     ]
    }
   ],
   "source": [
    "# Get the balanced accuracy. \n",
    "\n",
    "b_accuracy = balanced_accuracy_score(y_test, prediction_best_model3)\n",
    "print(b_accuracy)"
   ]
  },
  {
   "cell_type": "markdown",
   "metadata": {},
   "source": [
    "### Summary of Error Analysis of Each Decision Tree Model"
   ]
  },
  {
   "cell_type": "code",
   "execution_count": 131,
   "metadata": {},
   "outputs": [],
   "source": [
    "# List with the error analysis values for the decision tree. \n",
    "\n",
    "error = [ ['-------------', '-------------', '-------', '----'],\n",
    "    ['Precision', 1, '<=50K', 0.88],\n",
    "         ['Precision ', 1, '>50K', 0.61],\n",
    "        ['Recall', 1, '<=50K', 0.87],\n",
    "        ['Recall', 1, '>50K', 0.62],\n",
    "        ['F1-Score', 1, '<=50K', 0.88],\n",
    "        ['F1-Score', 1, '>50K', 0.61],\n",
    "        ['Accuracy', 1, 'Overall', 0.81],\n",
    "         ['B-Acc. Train', 1, 'Overall', 0.99],\n",
    "        ['B-Acc. Test', 1, 'Overall', 0.75],\n",
    "         ['Specificity', 1, 'Overall', 0.61],\n",
    "         ['-------------', '-------------', '-------', '----'],\n",
    "         ['Precision', 2, '<=50K', 0.88],\n",
    "         ['Precision ', 2, '>50K', 0.76],\n",
    "        ['Recall', 2, '<=50K', 0.94],\n",
    "        ['Recall', 2, '>50K', 0.58],\n",
    "        ['F1-Score', 2, '<=50K', 0.91],\n",
    "        ['F1-Score', 2, '>50K', 0.66],\n",
    "        ['Accuracy', 2, 'Overall', 0.85],\n",
    "         ['B-Acc. Train', 2, 'Overall', 0.77],\n",
    "        ['B-Acc. Test', 2, 'Overall', 0.76],\n",
    "         ['Specificity', 2, 'Overall', 0.76],\n",
    "          ['-------------', '-------------', '-------', '----'],\n",
    "         ['Precision', 3, '<=50K', 0.88],\n",
    "         ['Precision ', 3, '>50K', 0.75],\n",
    "        ['Recall', 3, '<=50K', 0.94],\n",
    "        ['Recall', 3, '>50K', 0.60],\n",
    "        ['F1-Score', 3, '<=50K', 0.91],\n",
    "        ['F1-Score', 3, '>50K', 0.67],\n",
    "        ['Accuracy', 3, 'Overall', 0.86],\n",
    "         ['B-Acc. Train', 3, 'Overall', 0.77],\n",
    "        ['B-Acc. Test', 3, 'Overall', 0.77],\n",
    "         ['Specificity', 3, 'Overall', 0.75],\n",
    "          ['-------------', '-------------', '-------', '----'],\n",
    "         ['Precision', 4, '<=50K', 0.88],\n",
    "         ['Precision ', 4, '>50K', 0.74],\n",
    "        ['Recall', 4, '<=50K', 0.93],\n",
    "        ['Recall', 4, '>50K', 0.61],\n",
    "        ['F1-Score', 4, '<=50K', 0.91],\n",
    "        ['F1-Score', 4, '>50K', 0.67],\n",
    "        ['Accuracy', 4, 'Overall', 0.86],\n",
    "         ['B-Acc. Train', 4, 'Overall', 0.78],\n",
    "        ['B-Acc. Test', 4, 'Overall', 0.77],\n",
    "         ['Specificity', 4, 'Overall', 0.74]\n",
    "        ]"
   ]
  },
  {
   "cell_type": "code",
   "execution_count": 132,
   "metadata": {},
   "outputs": [
    {
     "name": "stdout",
     "output_type": "stream",
     "text": [
      ": Error Analysis : DT Model Number : Category : Value :\n",
      ": -------------  : -------------   : -------  : ----  :\n",
      ": Precision      : 1               : <=50K    : 0.88  :\n",
      ": Precision      : 1               : >50K     : 0.61  :\n",
      ": Recall         : 1               : <=50K    : 0.87  :\n",
      ": Recall         : 1               : >50K     : 0.62  :\n",
      ": F1-Score       : 1               : <=50K    : 0.88  :\n",
      ": F1-Score       : 1               : >50K     : 0.61  :\n",
      ": Accuracy       : 1               : Overall  : 0.81  :\n",
      ": B-Acc. Train   : 1               : Overall  : 0.99  :\n",
      ": B-Acc. Test    : 1               : Overall  : 0.75  :\n",
      ": Specificity    : 1               : Overall  : 0.61  :\n",
      ": -------------  : -------------   : -------  : ----  :\n",
      ": Precision      : 2               : <=50K    : 0.88  :\n",
      ": Precision      : 2               : >50K     : 0.76  :\n",
      ": Recall         : 2               : <=50K    : 0.94  :\n",
      ": Recall         : 2               : >50K     : 0.58  :\n",
      ": F1-Score       : 2               : <=50K    : 0.91  :\n",
      ": F1-Score       : 2               : >50K     : 0.66  :\n",
      ": Accuracy       : 2               : Overall  : 0.85  :\n",
      ": B-Acc. Train   : 2               : Overall  : 0.77  :\n",
      ": B-Acc. Test    : 2               : Overall  : 0.76  :\n",
      ": Specificity    : 2               : Overall  : 0.76  :\n",
      ": -------------  : -------------   : -------  : ----  :\n",
      ": Precision      : 3               : <=50K    : 0.88  :\n",
      ": Precision      : 3               : >50K     : 0.75  :\n",
      ": Recall         : 3               : <=50K    : 0.94  :\n",
      ": Recall         : 3               : >50K     : 0.6   :\n",
      ": F1-Score       : 3               : <=50K    : 0.91  :\n",
      ": F1-Score       : 3               : >50K     : 0.67  :\n",
      ": Accuracy       : 3               : Overall  : 0.86  :\n",
      ": B-Acc. Train   : 3               : Overall  : 0.77  :\n",
      ": B-Acc. Test    : 3               : Overall  : 0.77  :\n",
      ": Specificity    : 3               : Overall  : 0.75  :\n",
      ": -------------  : -------------   : -------  : ----  :\n",
      ": Precision      : 4               : <=50K    : 0.88  :\n",
      ": Precision      : 4               : >50K     : 0.74  :\n",
      ": Recall         : 4               : <=50K    : 0.93  :\n",
      ": Recall         : 4               : >50K     : 0.61  :\n",
      ": F1-Score       : 4               : <=50K    : 0.91  :\n",
      ": F1-Score       : 4               : >50K     : 0.67  :\n",
      ": Accuracy       : 4               : Overall  : 0.86  :\n",
      ": B-Acc. Train   : 4               : Overall  : 0.78  :\n",
      ": B-Acc. Test    : 4               : Overall  : 0.77  :\n",
      ": Specificity    : 4               : Overall  : 0.74  :\n"
     ]
    }
   ],
   "source": [
    "# Printing the table with column headers and formating. \n",
    "\n",
    "print(': Error Analysis : DT Model Number : Category : Value :')\n",
    "\n",
    "for item in error: \n",
    "    print(':', item[0],\" \"*(13-len(item[0])),':', item[1],\" \"*(14-len(str(item[1]))),':', item[2],\" \"*(7-len(str(item[2]))),':', item[3],\" \"*(4-len(str(item[3]))),':')\n",
    "    "
   ]
  },
  {
   "cell_type": "markdown",
   "metadata": {},
   "source": [
    "### Summary of Error Analysis of Each Random Forest Model"
   ]
  },
  {
   "cell_type": "code",
   "execution_count": 151,
   "metadata": {},
   "outputs": [],
   "source": [
    "# List with the error analysis values for the random forest. \n",
    "\n",
    "errorRF = [['-------------', '-------------', '-------', '----'],\n",
    "    ['Precision', 1, '<=50K', 0.89],\n",
    "         ['Precision ', 1, '>50K', 0.72],\n",
    "        ['Recall', 1, '<=50K', 0.92],\n",
    "        ['Recall', 1, '>50K', 0.62],\n",
    "        ['F1-Score', 1, '<=50K', 0.90],\n",
    "        ['F1-Score', 1, '>50K', 0.67],\n",
    "        ['Accuracy', 1, 'Overall', 0.85],\n",
    "           ['B-Acc. Train', 1, 'Overall', 0.99],\n",
    "        ['B-Acc. Test', 1, 'Overall', 0.77],\n",
    "         ['Specificity', 1, 'Overall', 0.72],\n",
    "         ['-------------', '-------------', '-------', '----'],\n",
    "         ['Precision', 2, '<=50K', 0.87],\n",
    "         ['Precision ', 2, '>50K', 0.80],\n",
    "        ['Recall', 2, '<=50K', 0.96],\n",
    "        ['Recall', 2, '>50K', 0.56],\n",
    "        ['F1-Score', 2, '<=50K', 0.91],\n",
    "        ['F1-Score', 2, '>50K', 0.66],\n",
    "        ['Accuracy', 2, 'Overall', 0.86],\n",
    "            ['B-Acc. Train', 2, 'Overall', 0.77],\n",
    "        ['B-Acc. Test', 2, 'Overall', 0.76],\n",
    "         ['Specificity', 2, 'Overall', 0.80],\n",
    "          ['-------------', '-------------', '-------', '----'],\n",
    "         ['Precision', 3, '<=50K', 0.87],\n",
    "         ['Precision ', 3, '>50K', 0.80],\n",
    "        ['Recall', 3, '<=50K', 0.96],\n",
    "        ['Recall', 3, '>50K', 0.55],\n",
    "        ['F1-Score', 3, '<=50K', 0.91],\n",
    "        ['F1-Score', 3, '>50K', 0.66],\n",
    "        ['Accuracy', 3, 'Overall', 0.86],\n",
    "            ['B-Acc. Train', 3, 'Overall', 0.77],\n",
    "        ['B-Acc. Test', 3, 'Overall', 0.76],\n",
    "         ['Specificity', 3, 'Overall', 0.80],\n",
    "        ['-------------', '-------------', '-------', '----'],\n",
    "         ['Precision', 4, '<=50K', 0.88],\n",
    "         ['Precision ', 4, '>50K', 0.79],\n",
    "        ['Recall', 4, '<=50K', 0.95],\n",
    "        ['Recall', 4, '>50K', 0.58],\n",
    "        ['F1-Score', 4, '<=50K', 0.91],\n",
    "        ['F1-Score', 4, '>50K', 0.67],\n",
    "        ['Accuracy', 4, 'Overall', 0.86],\n",
    "            ['B-Acc. Train', 4, 'Overall', 0.77],\n",
    "        ['B-Acc. Test', 4, 'Overall', 0.76],\n",
    "         ['Specificity', 4, 'Overall', 0.79]]"
   ]
  },
  {
   "cell_type": "code",
   "execution_count": 152,
   "metadata": {},
   "outputs": [
    {
     "name": "stdout",
     "output_type": "stream",
     "text": [
      ": Error Analysis : RF Model Number : Category : Value :\n",
      ": -------------  : -------------   : -------  : ----  :\n",
      ": Precision      : 1               : <=50K    : 0.89  :\n",
      ": Precision      : 1               : >50K     : 0.72  :\n",
      ": Recall         : 1               : <=50K    : 0.92  :\n",
      ": Recall         : 1               : >50K     : 0.62  :\n",
      ": F1-Score       : 1               : <=50K    : 0.9   :\n",
      ": F1-Score       : 1               : >50K     : 0.67  :\n",
      ": Accuracy       : 1               : Overall  : 0.85  :\n",
      ": B-Acc. Train   : 1               : Overall  : 0.99  :\n",
      ": B-Acc. Test    : 1               : Overall  : 0.77  :\n",
      ": Specificity    : 1               : Overall  : 0.72  :\n",
      ": -------------  : -------------   : -------  : ----  :\n",
      ": Precision      : 2               : <=50K    : 0.87  :\n",
      ": Precision      : 2               : >50K     : 0.8   :\n",
      ": Recall         : 2               : <=50K    : 0.96  :\n",
      ": Recall         : 2               : >50K     : 0.56  :\n",
      ": F1-Score       : 2               : <=50K    : 0.91  :\n",
      ": F1-Score       : 2               : >50K     : 0.66  :\n",
      ": Accuracy       : 2               : Overall  : 0.86  :\n",
      ": B-Acc. Train   : 2               : Overall  : 0.77  :\n",
      ": B-Acc. Test    : 2               : Overall  : 0.76  :\n",
      ": Specificity    : 2               : Overall  : 0.8   :\n",
      ": -------------  : -------------   : -------  : ----  :\n",
      ": Precision      : 3               : <=50K    : 0.87  :\n",
      ": Precision      : 3               : >50K     : 0.8   :\n",
      ": Recall         : 3               : <=50K    : 0.96  :\n",
      ": Recall         : 3               : >50K     : 0.55  :\n",
      ": F1-Score       : 3               : <=50K    : 0.91  :\n",
      ": F1-Score       : 3               : >50K     : 0.66  :\n",
      ": Accuracy       : 3               : Overall  : 0.86  :\n",
      ": B-Acc. Train   : 3               : Overall  : 0.77  :\n",
      ": B-Acc. Test    : 3               : Overall  : 0.76  :\n",
      ": Specificity    : 3               : Overall  : 0.8   :\n",
      ": -------------  : -------------   : -------  : ----  :\n",
      ": Precision      : 4               : <=50K    : 0.88  :\n",
      ": Precision      : 4               : >50K     : 0.79  :\n",
      ": Recall         : 4               : <=50K    : 0.95  :\n",
      ": Recall         : 4               : >50K     : 0.58  :\n",
      ": F1-Score       : 4               : <=50K    : 0.91  :\n",
      ": F1-Score       : 4               : >50K     : 0.67  :\n",
      ": Accuracy       : 4               : Overall  : 0.86  :\n",
      ": B-Acc. Train   : 4               : Overall  : 0.77  :\n",
      ": B-Acc. Test    : 4               : Overall  : 0.76  :\n",
      ": Specificity    : 4               : Overall  : 0.79  :\n"
     ]
    }
   ],
   "source": [
    "# Print table with the error analysis of each Random forest model. \n",
    "\n",
    "print(': Error Analysis : RF Model Number : Category : Value :')\n",
    "\n",
    "for item in errorRF: \n",
    "    print(':', item[0],\" \"*(13-len(item[0])),':', item[1],\" \"*(14-len(str(item[1]))),':', item[2],\" \"*(7-len(str(item[2]))),':', item[3],\" \"*(4-len(str(item[3]))),':')\n",
    "    "
   ]
  },
  {
   "cell_type": "code",
   "execution_count": null,
   "metadata": {},
   "outputs": [],
   "source": []
  }
 ],
 "metadata": {
  "kernelspec": {
   "display_name": "Python 3",
   "language": "python",
   "name": "python3"
  },
  "language_info": {
   "codemirror_mode": {
    "name": "ipython",
    "version": 3
   },
   "file_extension": ".py",
   "mimetype": "text/x-python",
   "name": "python",
   "nbconvert_exporter": "python",
   "pygments_lexer": "ipython3",
   "version": "3.7.6"
  }
 },
 "nbformat": 4,
 "nbformat_minor": 4
}
